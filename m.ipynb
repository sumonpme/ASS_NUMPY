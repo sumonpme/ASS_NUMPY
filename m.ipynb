{
 "cells": [
  {
   "cell_type": "code",
   "execution_count": 1,
   "metadata": {},
   "outputs": [
    {
     "name": "stdout",
     "output_type": "stream",
     "text": [
      "Elements Greater Than 20: [40 50]\n"
     ]
    }
   ],
   "source": [
    "# Example 3: NumPy - Boolean Indexing\n",
    "import numpy as np\n",
    "# Creating an array\n",
    "array_1d = np.array([10, 20, 30, 40, 50])\n",
    "\n",
    "# Boolean indexing\n",
    "greater_than_30 = array_1d[array_1d > 30]\n",
    "\n",
    "print('Elements Greater Than 20:', greater_than_30)"
   ]
  }
 ],
 "metadata": {
  "kernelspec": {
   "display_name": "Python 3",
   "language": "python",
   "name": "python3"
  },
  "language_info": {
   "codemirror_mode": {
    "name": "ipython",
    "version": 3
   },
   "file_extension": ".py",
   "mimetype": "text/x-python",
   "name": "python",
   "nbconvert_exporter": "python",
   "pygments_lexer": "ipython3",
   "version": "3.12.1"
  }
 },
 "nbformat": 4,
 "nbformat_minor": 2
}
