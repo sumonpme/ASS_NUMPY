{
 "cells": [
  {
   "cell_type": "code",
   "execution_count": 1,
   "metadata": {},
   "outputs": [
    {
     "name": "stdout",
     "output_type": "stream",
     "text": [
      "Elements Greater Than 20: [40 50]\n"
     ]
    }
   ],
   "source": [
    "# Example 3: NumPy - Boolean Indexing\n",
    "import numpy as np\n",
    "# Creating an array\n",
    "array_1d = np.array([10, 20, 30, 40, 50])\n",
    "\n",
    "# Boolean indexing\n",
    "greater_than_30 = array_1d[array_1d > 30]\n",
    "\n",
    "print('Elements Greater Than 20:', greater_than_30)"
   ]
  },
  {
   "cell_type": "code",
   "execution_count": 1,
   "metadata": {},
   "outputs": [
    {
     "name": "stdout",
     "output_type": "stream",
     "text": [
      "X Grid:\n",
      "[[1 2 3]\n",
      " [1 2 3]\n",
      " [1 2 3]]\n",
      "\n",
      "Y Grid:\n",
      "[[4 4 4]\n",
      " [5 5 5]\n",
      " [6 6 6]]\n"
     ]
    }
   ],
   "source": [
    "# Example 18: NumPy - Meshgrid Creation\n",
    "import numpy as np\n",
    "x = np.array([1, 2, 3])\n",
    "y = np.array([4, 5, 6])\n",
    "\n",
    "# Create the meshgrid\n",
    "X, Y = np.meshgrid(x, y)\n",
    "\n",
    "print(\"X Grid:\")\n",
    "print(X)\n",
    "\n",
    "print(\"\\nY Grid:\")\n",
    "print(Y)"
   ]
  },
  {
   "cell_type": "code",
   "execution_count": 1,
   "metadata": {},
   "outputs": [
    {
     "name": "stdout",
     "output_type": "stream",
     "text": [
      "Linear Space Array: [ 0.          2.22222222  4.44444444  6.66666667  8.88888889 11.11111111\n",
      " 13.33333333 15.55555556 17.77777778 20.        ]\n"
     ]
    }
   ],
   "source": [
    "# Example 17: NumPy - Linear Space Array\n",
    "import numpy as np\n",
    "\n",
    "# Generating a linear space array\n",
    "linear_space = np.linspace(0, 20, 10)\n",
    "print(\"Linear Space Array:\", linear_space)\n"
   ]
  },
  {
   "cell_type": "code",
   "execution_count": 1,
   "metadata": {},
   "outputs": [
    {
     "name": "stdout",
     "output_type": "stream",
     "text": [
      "\n",
      "Sliced 3D Array :\n",
      "[[[ 4  5]]\n",
      "\n",
      " [[13 14]]]\n"
     ]
    }
   ],
   "source": [
    "# Example 9: NumPy - Multi-dimensional Slicing\n",
    "import numpy as np\n",
    "\n",
    "# Creating a 3D array\n",
    "array_3d = np.array([[[1, 2, 3], [4, 5, 6]],\n",
    "                     [[10, 11, 12], [13, 14, 15]],\n",
    "                     [[19, 20, 21], [22, 23, 24] ]])\n",
    "\n",
    "\n",
    "\n",
    "sliced_array = array_3d[0:2, 1:3, 0:2]\n",
    "\n",
    "print(\"\\nSliced 3D Array :\")\n",
    "print(sliced_array)"
   ]
  }
 ],
 "metadata": {
  "kernelspec": {
   "display_name": "Python 3",
   "language": "python",
   "name": "python3"
  },
  "language_info": {
   "codemirror_mode": {
    "name": "ipython",
    "version": 3
   },
   "file_extension": ".py",
   "mimetype": "text/x-python",
   "name": "python",
   "nbconvert_exporter": "python",
   "pygments_lexer": "ipython3",
   "version": "3.12.1"
  }
 },
 "nbformat": 4,
 "nbformat_minor": 2
}
