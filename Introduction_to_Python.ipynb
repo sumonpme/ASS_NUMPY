{
  "nbformat": 4,
  "nbformat_minor": 0,
  "metadata": {
    "colab": {
      "provenance": [],
      "toc_visible": true,
      "include_colab_link": true
    },
    "kernelspec": {
      "name": "python3",
      "display_name": "Python 3"
    },
    "language_info": {
      "name": "python"
    }
  },
  "cells": [
    {
      "cell_type": "markdown",
      "metadata": {
        "id": "view-in-github",
        "colab_type": "text"
      },
      "source": [
        "<a href=\"https://colab.research.google.com/github/sumonpme/ASS_NUMPY/blob/main/Introduction_to_Python.ipynb\" target=\"_parent\"><img src=\"https://colab.research.google.com/assets/colab-badge.svg\" alt=\"Open In Colab\"/></a>"
      ]
    },
    {
      "cell_type": "markdown",
      "source": [
        "# **Introduction**"
      ],
      "metadata": {
        "id": "W_QAF1pXTYGD"
      }
    },
    {
      "cell_type": "code",
      "source": [
        "print(\"hello world\")"
      ],
      "metadata": {
        "colab": {
          "base_uri": "https://localhost:8080/"
        },
        "id": "LxCwn6LRThbx",
        "outputId": "e81eb89d-05a3-48ad-99a9-2d26dfd40553"
      },
      "execution_count": null,
      "outputs": [
        {
          "output_type": "stream",
          "name": "stdout",
          "text": [
            "hello world\n"
          ]
        }
      ]
    },
    {
      "cell_type": "markdown",
      "source": [
        "## **Variable**"
      ],
      "metadata": {
        "id": "TTZyaE8GT7fK"
      }
    },
    {
      "cell_type": "code",
      "source": [
        "# Creating variables\n",
        "name = \"Rahim\"\n",
        "age = 20\n",
        "is_student = True\n",
        "height = 5.9\n",
        "# Printing variables\n",
        "print(\"Name:\", name)\n",
        "print(\"Age:\", age)\n",
        "print(\"Student status:\", is_student)\n",
        "print(\"Height:\", height, \"feet\")"
      ],
      "metadata": {
        "colab": {
          "base_uri": "https://localhost:8080/"
        },
        "id": "CaR4RWa3UAPn",
        "outputId": "4fa52056-36ef-4d11-e656-0d3fafdec1d7"
      },
      "execution_count": null,
      "outputs": [
        {
          "output_type": "stream",
          "name": "stdout",
          "text": [
            "Name: Rahim\n",
            "Age: 20\n",
            "Student status: True\n",
            "Height: 5.9 feet\n"
          ]
        }
      ]
    },
    {
      "cell_type": "code",
      "source": [
        "name = \"Tasnim\"\n",
        "address = 'Dhaka'\n",
        "age = 25\n",
        "price = 99.99\n",
        "is_valid = True\n",
        "has_paid = False\n",
        "result = None\n",
        "print(type(name))\n",
        "print(type(age))\n",
        "print(type(price))\n",
        "print(type(is_valid))"
      ],
      "metadata": {
        "colab": {
          "base_uri": "https://localhost:8080/"
        },
        "id": "vyZ0jc1hUw8f",
        "outputId": "04edf529-79a1-477e-88a3-ec6de0cf676e"
      },
      "execution_count": null,
      "outputs": [
        {
          "output_type": "stream",
          "name": "stdout",
          "text": [
            "<class 'str'>\n",
            "<class 'int'>\n",
            "<class 'float'>\n",
            "<class 'bool'>\n"
          ]
        }
      ]
    },
    {
      "cell_type": "code",
      "source": [
        "a = 10\n",
        "b = 3\n",
        "print(a + b)  # Addition: 13\n",
        "print(a - b)  # Subtraction: 7\n",
        "print(a * b)  # Multiplication: 30\n",
        "print(a / b)  # Division: 3.333...\n",
        "print(a // b) # Floor division: 3\n",
        "print(a % b)  # Modulus (remainder): 1\n",
        "print(a ** b) # Exponentiation: 1000"
      ],
      "metadata": {
        "colab": {
          "base_uri": "https://localhost:8080/"
        },
        "id": "z9tYpKVRHtjD",
        "outputId": "32e97bef-76bf-439e-ed38-57f0781c9143"
      },
      "execution_count": null,
      "outputs": [
        {
          "output_type": "stream",
          "name": "stdout",
          "text": [
            "13\n",
            "7\n",
            "30\n",
            "3.3333333333333335\n",
            "3\n",
            "1\n",
            "1000\n"
          ]
        }
      ]
    },
    {
      "cell_type": "code",
      "source": [
        "first = \"Hello\"\n",
        "last = \"World\"\n",
        "# Concatenation\n",
        "full = first + \" \" + last\n",
        "print(full)  # Hello World\n",
        "# Repetition\n",
        "repeated = first * 3\n",
        "print(repeated)  # HelloHelloHello#\n",
        "#Length\n",
        "print(len(full))  # 11"
      ],
      "metadata": {
        "colab": {
          "base_uri": "https://localhost:8080/"
        },
        "id": "tf1TnrgaIA2t",
        "outputId": "3b732e72-9e0a-4056-e21e-7d9559f8154f"
      },
      "execution_count": null,
      "outputs": [
        {
          "output_type": "stream",
          "name": "stdout",
          "text": [
            "Hello World\n",
            "HelloHelloHello\n",
            "11\n"
          ]
        }
      ]
    },
    {
      "cell_type": "markdown",
      "source": [
        "## **Data Structure**"
      ],
      "metadata": {
        "id": "vq2YKKy-Jry0"
      }
    },
    {
      "cell_type": "code",
      "source": [
        "# Creating a list\n",
        "fruits = [\"apple\", \"banana\", \"orange\", \"mango\"]\n",
        "# Accessing elements (indexing starts at 0)\n",
        "print(fruits[0])       # apple\n",
        "print(fruits[2])       # orange\n",
        "# Negative indexing (counts from the end)\n",
        "print(fruits[-1])      # mango\n",
        "# Slicing lists\n",
        "print(fruits[1:3])     # ['banana', 'orange’]\n",
        "# Changing an element\n",
        "fruits[1] = \"grape\"\n",
        "print(fruits)          # ['apple', 'grape', 'orange', 'mango']"
      ],
      "metadata": {
        "colab": {
          "base_uri": "https://localhost:8080/"
        },
        "id": "scUfbWiIJvz_",
        "outputId": "24b7048d-1a54-49b9-d708-1976db22fa46"
      },
      "execution_count": null,
      "outputs": [
        {
          "output_type": "stream",
          "name": "stdout",
          "text": [
            "apple\n",
            "orange\n",
            "mango\n",
            "['banana', 'orange']\n",
            "['apple', 'grape', 'orange', 'mango']\n"
          ]
        }
      ]
    },
    {
      "cell_type": "code",
      "source": [
        "#Adding Elements in List\n",
        "fruits = [\"apple\", \"banana\"]\n",
        "fruits.append(\"orange\")    # Add to end\n",
        "fruits.insert(1, \"mango\")  # Insert at position\n",
        "print(fruits)  # ['apple', 'mango', 'banana', 'orange']"
      ],
      "metadata": {
        "colab": {
          "base_uri": "https://localhost:8080/"
        },
        "id": "yDqL7OfJLb8v",
        "outputId": "d2b331f1-cdaa-4fb8-8b9e-c2fd98c055ea"
      },
      "execution_count": null,
      "outputs": [
        {
          "output_type": "stream",
          "name": "stdout",
          "text": [
            "['apple', 'mango', 'banana', 'orange']\n"
          ]
        }
      ]
    },
    {
      "cell_type": "code",
      "source": [
        "#Removing Elements in List\n",
        "fruits = [\"apple\", \"mango\", \"banana\", \"orange\"]\n",
        "fruits.remove(\"mango\")    # Remove by value\n",
        "popped = fruits.pop()    # Remove & return last item\n",
        "print(popped) # orange\n",
        "print(fruits) # ['apple', 'banana']"
      ],
      "metadata": {
        "colab": {
          "base_uri": "https://localhost:8080/"
        },
        "id": "7HuHLSRgMB99",
        "outputId": "c3373766-8b2f-43af-f3bc-e650b4143fbb"
      },
      "execution_count": null,
      "outputs": [
        {
          "output_type": "stream",
          "name": "stdout",
          "text": [
            "orange\n",
            "['apple', 'banana']\n"
          ]
        }
      ]
    },
    {
      "cell_type": "code",
      "source": [
        "#organinzing list\n",
        "fruits = [\"orange\", \"apple\", \"mango\", \"banana\"]\n",
        "fruits.sort() # Alphabetical order\n",
        "print(fruits) # ['apple', 'banana', 'mango', 'orange’]\n",
        "fruits.reverse() # Reverse order\n",
        "print(fruits) # ['orange', 'mango', 'banana', 'apple']"
      ],
      "metadata": {
        "colab": {
          "base_uri": "https://localhost:8080/"
        },
        "id": "bd_F1ZQfM6-i",
        "outputId": "f3d8820f-8b4f-40b4-a595-1237081432ed"
      },
      "execution_count": null,
      "outputs": [
        {
          "output_type": "stream",
          "name": "stdout",
          "text": [
            "['apple', 'banana', 'mango', 'orange']\n",
            "['orange', 'mango', 'banana', 'apple']\n"
          ]
        }
      ]
    },
    {
      "cell_type": "code",
      "source": [
        "# Creating a dictionary\n",
        "student = {\n",
        "\"name\": \"Fahim\",\n",
        "\"age\": 21,\n",
        "\"university\": \"BUET\",\n",
        "\"courses\": [\"Python\", \"Data Science\", \"Web Development\"]}\n",
        "# Accessing values using keys\n",
        "print(student[\"name\"])      # Fahim\n",
        "print(student[\"courses\"][0])  # Python\n",
        "# Adding or modifying items\n",
        "student[\"phone\"] = \"01712345678\"\n",
        "student[\"age\"] = 22\n",
        "# Checking if a key exists\n",
        "if \"email\" in student:\n",
        "  print(\"Email found\")\n",
        "else:\n",
        "  print(\"No email found\")   # No email found"
      ],
      "metadata": {
        "colab": {
          "base_uri": "https://localhost:8080/"
        },
        "id": "Oezdj9SpNcyw",
        "outputId": "d438a257-2e3b-4260-a495-83db94f4de9a"
      },
      "execution_count": null,
      "outputs": [
        {
          "output_type": "stream",
          "name": "stdout",
          "text": [
            "Fahim\n",
            "Python\n",
            "No email found\n"
          ]
        }
      ]
    },
    {
      "cell_type": "code",
      "source": [
        "# Creating a tuple\n",
        "coordinates = (10.5, 20.8)\n",
        "rgb_color = (255, 0, 128)\n",
        "# Accessing elements\n",
        "print(coordinates[0])    # 10.5\n",
        "print(rgb_color[2])      # 128\n",
        "# Attempting to change (will cause error)\n",
        "# rgb_color[0] = 200  # TypeError!\n",
        "# Length of tuple\n",
        "print(len(rgb_color))    # 3"
      ],
      "metadata": {
        "colab": {
          "base_uri": "https://localhost:8080/"
        },
        "id": "dSz8bUQ4N6ZK",
        "outputId": "fa41e8ab-4a11-405e-c9b6-35119092b720"
      },
      "execution_count": null,
      "outputs": [
        {
          "output_type": "stream",
          "name": "stdout",
          "text": [
            "10.5\n",
            "128\n",
            "3\n"
          ]
        }
      ]
    },
    {
      "cell_type": "code",
      "source": [
        "# Tuple with different data types\n",
        "mixed = (\"Dhaka\", 23.8, True, 2023)\n",
        "# Single-item tuple needs a comma\n",
        "single = (42,)  # Without comma: just an int\n",
        "print(mixed)\n",
        "print(single)"
      ],
      "metadata": {
        "colab": {
          "base_uri": "https://localhost:8080/"
        },
        "id": "jpFbpxSUP3EO",
        "outputId": "0974807b-b60c-433f-b703-88b41091049c"
      },
      "execution_count": null,
      "outputs": [
        {
          "output_type": "stream",
          "name": "stdout",
          "text": [
            "('Dhaka', 23.8, True, 2023)\n",
            "(42,)\n"
          ]
        }
      ]
    },
    {
      "cell_type": "code",
      "source": [
        "# Creating a set\n",
        "fruits = {\"apple\", \"banana\", \"orange\", \"apple\"}\n",
        "print(fruits)  # {'orange', 'banana', 'apple'} (no duplicates)\n",
        "# Adding elements\n",
        "fruits.add(\"mango\")\n",
        "fruits.update([\"grape\", \"kiwi\"])\n",
        "# Removing elements\n",
        "fruits.remove(\"banana\")  # Raises error if not found\n",
        "fruits.discard(\"pear\")\n",
        "# Set operations\n",
        "bangladeshi_fruits = {\"mango\", \"jackfruit\", \"banana\"}\n",
        "imported_fruits = {\"apple\", \"kiwi\", \"banana\"}\n",
        "# Union (all elements from both sets)\n",
        "all_fruits = bangladeshi_fruits | imported_fruits\n",
        "print(all_fruits)\n",
        "# Intersection (common elements)\n",
        "common = bangladeshi_fruits & imported_fruits  # {'banana'}\n",
        "print(common)"
      ],
      "metadata": {
        "colab": {
          "base_uri": "https://localhost:8080/"
        },
        "id": "WBLwxw20Qa0I",
        "outputId": "76c9c1b6-503a-4f86-a6e1-6b816d7067a5"
      },
      "execution_count": null,
      "outputs": [
        {
          "output_type": "stream",
          "name": "stdout",
          "text": [
            "{'orange', 'banana', 'apple'}\n",
            "{'banana', 'kiwi', 'mango', 'jackfruit', 'apple'}\n",
            "{'banana'}\n"
          ]
        }
      ]
    },
    {
      "cell_type": "markdown",
      "source": [
        "## **Conditional**"
      ],
      "metadata": {
        "id": "WyPxn3niT-lj"
      }
    },
    {
      "cell_type": "code",
      "source": [
        "# Basic if-else\n",
        "age = 19\n",
        "if age >= 18:\n",
        "  print(\"You are an adult\")\n",
        "else:\n",
        "  print(\"You are a minor\")\n",
        "\n",
        "# if-elif-else (multiple conditions)\n",
        "score = 85\n",
        "if score >= 90:\n",
        "  grade = \"A+\"\n",
        "elif score >= 80:\n",
        "  grade = \"A\"\n",
        "elif score >= 70:\n",
        "  grade = \"B\"\n",
        "elif score >= 60:\n",
        "  grade = \"C\"\n",
        "else:\n",
        "  grade = \"F\"\n",
        "print(f\"Your grade is {grade}\")  # Your grade is A"
      ],
      "metadata": {
        "colab": {
          "base_uri": "https://localhost:8080/"
        },
        "id": "T-AW8CYxR2gf",
        "outputId": "153f7f40-fa06-4ba3-dd1b-ef04a41e5484"
      },
      "execution_count": null,
      "outputs": [
        {
          "output_type": "stream",
          "name": "stdout",
          "text": [
            "You are an adult\n",
            "Your grade is A\n"
          ]
        }
      ]
    },
    {
      "cell_type": "code",
      "source": [
        "#nested if statements\n",
        "temperature = 32\n",
        "humidity = 80\n",
        "if temperature > 30:\n",
        "  if humidity > 70:\n",
        "    print(\"Hot and humid\")\n",
        "  else:\n",
        "    print(\"Hot but dry\")\n",
        "else:\n",
        "  if humidity > 70:\n",
        "    print(\"Cool but humid\")\n",
        "  else:\n",
        "    print(\"Cool and dry\")"
      ],
      "metadata": {
        "colab": {
          "base_uri": "https://localhost:8080/"
        },
        "id": "Cfc0dV2WTnt0",
        "outputId": "ff7ebda2-a76b-4d21-b2c2-41032570e070"
      },
      "execution_count": null,
      "outputs": [
        {
          "output_type": "stream",
          "name": "stdout",
          "text": [
            "Hot and humid\n"
          ]
        }
      ]
    },
    {
      "cell_type": "code",
      "source": [
        "# More efficient version using logical operators\n",
        "if temperature > 30 and humidity > 70:\n",
        "  print(\"Hot and humid\")\n",
        "elif temperature > 30 and humidity <= 70:\n",
        "  print(\"Hot but dry\")\n",
        "elif temperature <= 30 and humidity > 70:\n",
        "  print(\"Cool but humid\")\n",
        "else:\n",
        "  print(\"Cool and dry\")\n",
        "# Other logical operators\n",
        "has_id = True\n",
        "is_holiday = False\n",
        "if has_id or is_holiday:\n",
        "  print(\"Can enter\")  # Prints this\n",
        "if not is_holiday:\n",
        "  print(\"Work day\")   # Prints this"
      ],
      "metadata": {
        "colab": {
          "base_uri": "https://localhost:8080/"
        },
        "id": "trEDJPqLVDwn",
        "outputId": "d16a91af-6204-4222-90cb-5f3071213bb9"
      },
      "execution_count": null,
      "outputs": [
        {
          "output_type": "stream",
          "name": "stdout",
          "text": [
            "Hot and humid\n",
            "Can enter\n",
            "Work day\n"
          ]
        }
      ]
    },
    {
      "cell_type": "markdown",
      "source": [
        "## **Loop**"
      ],
      "metadata": {
        "id": "ntNY_yqXWxci"
      }
    },
    {
      "cell_type": "code",
      "source": [
        "# Looping through a list\n",
        "fruits = [\"apple\", \"banana\", \"orange\"]\n",
        "for fruit in fruits:\n",
        "  print(f\"I like {fruit}\")\n",
        "print(\"\\n\")\n",
        "# Using range() function\n",
        "for i in range(5):  # 0 to 4\n",
        "  print(i)\n",
        "print(\"\\n\")\n",
        "for i in range(2,10):  # 2 to 8\n",
        "  print(i)"
      ],
      "metadata": {
        "colab": {
          "base_uri": "https://localhost:8080/"
        },
        "id": "C1p-4uQLW0ph",
        "outputId": "64d19d01-5d20-4953-d6b6-6c3419dbe411"
      },
      "execution_count": null,
      "outputs": [
        {
          "output_type": "stream",
          "name": "stdout",
          "text": [
            "I like apple\n",
            "I like banana\n",
            "I like orange\n",
            "\n",
            "\n",
            "0\n",
            "1\n",
            "2\n",
            "3\n",
            "4\n",
            "\n",
            "\n",
            "2\n",
            "3\n",
            "4\n",
            "5\n",
            "6\n",
            "7\n",
            "8\n",
            "9\n"
          ]
        }
      ]
    },
    {
      "cell_type": "code",
      "source": [
        "# Continue until a condition is met\n",
        "count = 0\n",
        "while count < 5:\n",
        "  print(count)\n",
        "  count += 1  # Don't forget to increment!\n",
        "print(\"\\n\")\n",
        "# With a break statement\n",
        "number = 0\n",
        "while True:\n",
        "  number += 1\n",
        "  if number > 10:\n",
        "    break\n",
        "  print(number)"
      ],
      "metadata": {
        "colab": {
          "base_uri": "https://localhost:8080/"
        },
        "id": "JZbWP8VoZJHN",
        "outputId": "3c88713a-f9fa-46be-bc71-42f5282a71f3"
      },
      "execution_count": null,
      "outputs": [
        {
          "output_type": "stream",
          "name": "stdout",
          "text": [
            "0\n",
            "1\n",
            "2\n",
            "3\n",
            "4\n",
            "\n",
            "\n",
            "1\n",
            "2\n",
            "3\n",
            "4\n",
            "5\n",
            "6\n",
            "7\n",
            "8\n",
            "9\n",
            "10\n"
          ]
        }
      ]
    },
    {
      "cell_type": "code",
      "source": [
        "# Continue statement - skip to next iteration\n",
        "for num in range(10):\n",
        "  if num % 2 == 0:\n",
        "    continue  # Skip even numbers\n",
        "  print(num)    # Prints only odd numbers\n",
        "print(\"\\n\")\n",
        "# Break statement - exit the loop\n",
        "for num in range(100):\n",
        "  if num > 10:\n",
        "    break\n",
        "  print(num)\n",
        "# Stop when we reach 11\n",
        "# Prints 0 through 10"
      ],
      "metadata": {
        "colab": {
          "base_uri": "https://localhost:8080/"
        },
        "id": "D9UOu3iFaSoK",
        "outputId": "d573acd5-3fe1-4951-d9a4-83dd7edf8273"
      },
      "execution_count": null,
      "outputs": [
        {
          "output_type": "stream",
          "name": "stdout",
          "text": [
            "1\n",
            "3\n",
            "5\n",
            "7\n",
            "9\n",
            "\n",
            "\n",
            "0\n",
            "1\n",
            "2\n",
            "3\n",
            "4\n",
            "5\n",
            "6\n",
            "7\n",
            "8\n",
            "9\n",
            "10\n"
          ]
        }
      ]
    },
    {
      "cell_type": "code",
      "source": [
        "# Multiplication table (1-5)\n",
        "for i in range(1, 6):\n",
        "  for j in range(1, 6):\n",
        "    product = i * j\n",
        "    print(f\"{i} × {j} = {product}\")\n",
        "  print(\"-----\")  # Separator between tables\n"
      ],
      "metadata": {
        "colab": {
          "base_uri": "https://localhost:8080/"
        },
        "id": "sLH-qPrObJ1e",
        "outputId": "5a826315-9a15-4a66-e5ba-497f33e31cef"
      },
      "execution_count": null,
      "outputs": [
        {
          "output_type": "stream",
          "name": "stdout",
          "text": [
            "1 × 1 = 1\n",
            "1 × 2 = 2\n",
            "1 × 3 = 3\n",
            "1 × 4 = 4\n",
            "1 × 5 = 5\n",
            "-----\n",
            "2 × 1 = 2\n",
            "2 × 2 = 4\n",
            "2 × 3 = 6\n",
            "2 × 4 = 8\n",
            "2 × 5 = 10\n",
            "-----\n",
            "3 × 1 = 3\n",
            "3 × 2 = 6\n",
            "3 × 3 = 9\n",
            "3 × 4 = 12\n",
            "3 × 5 = 15\n",
            "-----\n",
            "4 × 1 = 4\n",
            "4 × 2 = 8\n",
            "4 × 3 = 12\n",
            "4 × 4 = 16\n",
            "4 × 5 = 20\n",
            "-----\n",
            "5 × 1 = 5\n",
            "5 × 2 = 10\n",
            "5 × 3 = 15\n",
            "5 × 4 = 20\n",
            "5 × 5 = 25\n",
            "-----\n"
          ]
        }
      ]
    },
    {
      "cell_type": "code",
      "source": [
        "#pattern printing\n",
        "for i in range(1, 6):\n",
        " print(\"*\" * i)"
      ],
      "metadata": {
        "colab": {
          "base_uri": "https://localhost:8080/"
        },
        "id": "AwbjxmG-b5j-",
        "outputId": "114a2a71-eeec-4d87-b3ad-f72aebe6221a"
      },
      "execution_count": null,
      "outputs": [
        {
          "output_type": "stream",
          "name": "stdout",
          "text": [
            "*\n",
            "**\n",
            "***\n",
            "****\n",
            "*****\n"
          ]
        }
      ]
    },
    {
      "cell_type": "markdown",
      "source": [
        "## **Function**"
      ],
      "metadata": {
        "id": "wEIrckHKd_oY"
      }
    },
    {
      "cell_type": "code",
      "source": [
        "# Defining a simple function\n",
        "def greet():\n",
        "  print(\"Hello! Welcome to Python programming.\")\n",
        "# Calling the function\n",
        "greet()\n",
        "# Function with parameters\n",
        "def greet_person(name):\n",
        "  print(f\"Hello, {name}! How are you today?\")\n",
        "greet_person(\"Tahmid\")  # Hello, Tahmid! How are you today?\n",
        "# Function with return value\n",
        "def add_numbers(a, b):\n",
        "  sum = a + b\n",
        "  return sum\n",
        "result = add_numbers(5, 3)\n",
        "print(f\"The sum is {result}\")  # The sum is 8"
      ],
      "metadata": {
        "colab": {
          "base_uri": "https://localhost:8080/"
        },
        "id": "iyBrlNUBeDAO",
        "outputId": "93cbc5fa-47f5-4c0b-c037-6ad593ccc0e9"
      },
      "execution_count": null,
      "outputs": [
        {
          "output_type": "stream",
          "name": "stdout",
          "text": [
            "Hello! Welcome to Python programming.\n",
            "Hello, Tahmid! How are you today?\n",
            "The sum is 8\n"
          ]
        }
      ]
    },
    {
      "cell_type": "code",
      "source": [
        "def greet(name, message=\"Good morning\"):\n",
        "  print(f\"{message}, {name}!\")\n",
        "greet(\"Nadia\")  # Good morning, Nadia!\n",
        "greet(\"Karim\", \"Hello\")  # Hello, Karim!"
      ],
      "metadata": {
        "colab": {
          "base_uri": "https://localhost:8080/"
        },
        "id": "c0mGQz3CekQ_",
        "outputId": "b00e750b-915c-49d1-bde2-adf385280684"
      },
      "execution_count": null,
      "outputs": [
        {
          "output_type": "stream",
          "name": "stdout",
          "text": [
            "Good morning, Nadia!\n",
            "Hello, Karim!\n"
          ]
        }
      ]
    },
    {
      "cell_type": "code",
      "source": [
        "def describe_person(name, age, city):\n",
        "  print(f\"{name} is {age} years old from {city}\")\n",
        "# Order doesn't matter with keyword args\n",
        "describe_person(city=\"Chittagong\", name=\"Rahim\", age=25)"
      ],
      "metadata": {
        "colab": {
          "base_uri": "https://localhost:8080/"
        },
        "id": "0pBvtZWIey-s",
        "outputId": "f4cc1471-1316-4837-ab4d-42eabee3d96c"
      },
      "execution_count": null,
      "outputs": [
        {
          "output_type": "stream",
          "name": "stdout",
          "text": [
            "Rahim is 25 years old from Chittagong\n"
          ]
        }
      ]
    },
    {
      "cell_type": "code",
      "source": [
        "def calculate_stats(numbers):\n",
        "  total = sum(numbers)\n",
        "  average = total / len(numbers)\n",
        "  maximum = max(numbers)\n",
        "  minimum = min(numbers)\n",
        "  return total, average, maximum, minimum\n",
        "stats = calculate_stats([5, 10, 15, 20])\n",
        "print(stats)  # (50, 12.5, 20, 5)"
      ],
      "metadata": {
        "colab": {
          "base_uri": "https://localhost:8080/"
        },
        "id": "p32c4GBFfElM",
        "outputId": "86360a91-dd27-41b2-99fc-c78c126b8dd0"
      },
      "execution_count": null,
      "outputs": [
        {
          "output_type": "stream",
          "name": "stdout",
          "text": [
            "(50, 12.5, 20, 5)\n"
          ]
        }
      ]
    },
    {
      "cell_type": "code",
      "source": [
        "total = 0  # Global variable\n",
        "\n",
        "def add_to_total(value):\n",
        "    global total  # Access global variable\n",
        "    total += value\n",
        "    return total\n",
        "\n",
        "print(add_to_total(5))  # 5\n",
        "print(add_to_total(10))  # 15"
      ],
      "metadata": {
        "colab": {
          "base_uri": "https://localhost:8080/"
        },
        "id": "vlXi6Mz7f5Wg",
        "outputId": "973df3f1-f276-47cb-eca1-bf48612b7563"
      },
      "execution_count": null,
      "outputs": [
        {
          "output_type": "stream",
          "name": "stdout",
          "text": [
            "5\n",
            "15\n"
          ]
        }
      ]
    },
    {
      "cell_type": "code",
      "source": [
        "# Math module\n",
        "import math\n",
        "print(math.pi)  # 3.141592653589793\n",
        "print(math.sqrt(16))  # 4.0\n",
        "# Random module\n",
        "import random\n",
        "print(random.randint(1, 10))  # Random number\n",
        "print(random.choice([\"apple\", \"banana\", \"orange\"]))\n",
        " # Datetime module\n",
        "import datetime\n",
        "current_date = datetime.datetime.now()\n",
        "print(current_date)"
      ],
      "metadata": {
        "colab": {
          "base_uri": "https://localhost:8080/"
        },
        "id": "y3zP98r_gqdm",
        "outputId": "f4d36454-4e25-4fe0-abac-ae187ad78e51"
      },
      "execution_count": null,
      "outputs": [
        {
          "output_type": "stream",
          "name": "stdout",
          "text": [
            "3.141592653589793\n",
            "4.0\n",
            "9\n",
            "apple\n",
            "2025-08-15 06:55:34.862773\n"
          ]
        }
      ]
    },
    {
      "cell_type": "code",
      "source": [
        "# mymath.py\n",
        "%%writefile mymath.py\n",
        "def add(a, b):\n",
        "  return a + b\n",
        "def subtract(a, b):\n",
        "  return a - b\n",
        "PI = 3.14159"
      ],
      "metadata": {
        "colab": {
          "base_uri": "https://localhost:8080/"
        },
        "id": "multwf5ghBOu",
        "outputId": "e3fb3cda-c585-47a0-80c2-090cbefa1eeb"
      },
      "execution_count": null,
      "outputs": [
        {
          "output_type": "stream",
          "name": "stdout",
          "text": [
            "Writing mymath.py\n"
          ]
        }
      ]
    },
    {
      "cell_type": "code",
      "source": [
        "import mymath\n",
        "print(mymath.add(5, 3))      # 8\n",
        "print(mymath.subtract(10, 4)) # 6\n",
        "print(mymath.PI)             # 3.14159"
      ],
      "metadata": {
        "colab": {
          "base_uri": "https://localhost:8080/"
        },
        "id": "w2bom35dhMUT",
        "outputId": "2d4a38cf-efe7-44a1-edf0-aaba597a4964"
      },
      "execution_count": null,
      "outputs": [
        {
          "output_type": "stream",
          "name": "stdout",
          "text": [
            "8\n",
            "6\n",
            "3.14159\n"
          ]
        }
      ]
    }
  ]
}